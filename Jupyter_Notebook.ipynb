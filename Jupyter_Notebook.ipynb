{
  "metadata": {
    "kernelspec": {
      "name": "python",
      "display_name": "Pyolite",
      "language": "python"
    },
    "language_info": {
      "codemirror_mode": {
        "name": "python",
        "version": 3
      },
      "file_extension": ".py",
      "mimetype": "text/x-python",
      "name": "python",
      "nbconvert_exporter": "python",
      "pygments_lexer": "ipython3",
      "version": "3.8"
    }
  },
  "nbformat_minor": 4,
  "nbformat": 4,
  "cells": [
    {
      "cell_type": "markdown",
      "source": "<center>\n    <img src=\"https://s3-api.us-geo.objectstorage.softlayer.net/cf-courses-data/CognitiveClass/Logos/organization_logo/organization_logo.png\" width=\"300\" alt=\"cognitiveclass.ai logo\"  />\n</center>\n",
      "metadata": {}
    },
    {
      "cell_type": "markdown",
      "source": "#### Add your code below following the instructions given in the course\n",
      "metadata": {}
    },
    {
      "cell_type": "markdown",
      "source": "# My Juptyer Notebook on IBM Watson Studio",
      "metadata": {}
    },
    {
      "cell_type": "markdown",
      "source": "**Kavan Jayprakash Desai**\nCurrently applying for AllState Data Science Rotational Program",
      "metadata": {}
    },
    {
      "cell_type": "markdown",
      "source": "*Data Science is an interesting field that offers a vast anount of knowledge and tools to succeed in the future. I have a health science background and would like to use my existing knowldge along with the new knowledge I learn to help shape better health decisions.*",
      "metadata": {}
    },
    {
      "cell_type": "markdown",
      "source": "### The code that I will be typing in the next cell will be basic mathematical operations using Python(+,-,*,/,%,and  exponentiation)",
      "metadata": {}
    },
    {
      "cell_type": "code",
      "source": "num1=2\nnum2=5\n\nsum = num1 + num2\nprint (sum)\n\n\nminus = num1 - num2\nprint (res)\n\ntimes= num1 * num2\nprint (times)\n\ndivide= num1 / num2\nprint (divide)\n\nmodulus= num2 % num1\nprint (modulus)\n\nexponent= num1 ** num2\nprint (exponent)\n\n\n",
      "metadata": {
        "trusted": true
      },
      "execution_count": 6,
      "outputs": [
        {
          "name": "stdout",
          "text": "7\n-3\n10\n0.4\n1\n32\n",
          "output_type": "stream"
        }
      ]
    },
    {
      "cell_type": "markdown",
      "source": "### These 2 sentences will be separated using a horizontal rule.\n My name is Kavan Desai\n ***\n I have just used 3 asterisks to create a horizontal rule\n \n### I am now creating a number list of my favorite things to do.\n\n1. Read\n2. Watch TV (Netflix, Cricket, Amazon Prime)\n3. Learn to code\n4. Bicycling\n5. Working out\n\n### This following code will allow me to write \"This is really cool\" text in color red\n\n<font color = red>\"This is really cool\"</font>\n\n\n \n",
      "metadata": {}
    },
    {
      "cell_type": "code",
      "source": "",
      "metadata": {},
      "execution_count": null,
      "outputs": []
    }
  ]
}